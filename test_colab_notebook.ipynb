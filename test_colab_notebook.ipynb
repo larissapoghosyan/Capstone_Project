{
  "nbformat": 4,
  "nbformat_minor": 0,
  "metadata": {
    "colab": {
      "name": "test_colab_notebook.ipynb",
      "provenance": [],
      "authorship_tag": "ABX9TyMcn2yMlMWW1Y5/zJolu+Un",
      "include_colab_link": true
    },
    "kernelspec": {
      "name": "python3",
      "display_name": "Python 3"
    },
    "language_info": {
      "name": "python"
    },
    "accelerator": "GPU"
  },
  "cells": [
    {
      "cell_type": "markdown",
      "metadata": {
        "id": "view-in-github",
        "colab_type": "text"
      },
      "source": [
        "<a href=\"https://colab.research.google.com/github/larissapoghosyan/Capstone_Project/blob/main/test_colab_notebook.ipynb\" target=\"_parent\"><img src=\"https://colab.research.google.com/assets/colab-badge.svg\" alt=\"Open In Colab\"/></a>"
      ]
    },
    {
      "cell_type": "code",
      "execution_count": 1,
      "metadata": {
        "colab": {
          "base_uri": "https://localhost:8080/"
        },
        "id": "vepnQhBjbnKp",
        "outputId": "22323fa5-ede7-4d01-dbe9-aba93f40b819"
      },
      "outputs": [
        {
          "output_type": "stream",
          "name": "stdout",
          "text": [
            "total    : 14.755615234375\n",
            "free     : 14.7554931640625\n",
            "used     : 0.0001220703125\n"
          ]
        }
      ],
      "source": [
        "from pynvml import *\n",
        "nvmlInit()\n",
        "h = nvmlDeviceGetHandleByIndex(0)\n",
        "info = nvmlDeviceGetMemoryInfo(h)\n",
        "print(f'total    : {info.total/1024**3}')\n",
        "print(f'free     : {info.free/1024**3}')\n",
        "print(f'used     : {info.used/1024**3}')"
      ]
    },
    {
      "cell_type": "code",
      "source": [
        "import psutil\n",
        "    \n",
        "psutil.virtual_memory().total/1024**3"
      ],
      "metadata": {
        "colab": {
          "base_uri": "https://localhost:8080/"
        },
        "id": "K0hkMqD-bubF",
        "outputId": "fa360164-2341-4518-e1a0-6e7cc2154f00"
      },
      "execution_count": 2,
      "outputs": [
        {
          "output_type": "execute_result",
          "data": {
            "text/plain": [
              "12.686653137207031"
            ]
          },
          "metadata": {},
          "execution_count": 2
        }
      ]
    },
    {
      "cell_type": "code",
      "source": [
        ""
      ],
      "metadata": {
        "id": "6INbkwWjb6BG"
      },
      "execution_count": null,
      "outputs": []
    }
  ]
}